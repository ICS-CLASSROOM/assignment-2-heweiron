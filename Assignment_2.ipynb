{
 "cells": [
  {
   "cell_type": "code",
   "execution_count": 1,
   "id": "1443cdff",
   "metadata": {},
   "outputs": [],
   "source": [
    "import re\n"
   ]
  },
  {
   "cell_type": "markdown",
   "id": "f2f2f136",
   "metadata": {},
   "source": [
    "## Name: Weirong He\n",
    "\n",
    "## ICS 438"
   ]
  },
  {
   "cell_type": "markdown",
   "id": "9aa8d15e",
   "metadata": {},
   "source": [
    "# Assignment 2: Analyzing large datasets with Spark.\n",
    "\n",
    "\n",
    "For this assignment, you will need to make sure you're running from a PySpark docker environment I introduced in class. You can start the docker pySpark docker environment using the following command:\n",
    "\n",
    "```\n",
    "docker run --rm -p 4040:4040 -p 8888:8888 -v $(pwd):/home/jovyan/work jupyter/all-spark-notebook\n",
    "```\n",
    "\n",
    "Make sure you run the command from the directory containing this jupyter notebook and your data folder.\n",
    "\n",
    "\n",
    "</b>\n",
    "# WARNING: For some reason, ipynbb document didn't always sync properly when I was pushing to github. As such, please push often and make sure your incremental changes appear on GitHub.\n",
    "</b>"
   ]
  },
  {
   "cell_type": "markdown",
   "id": "66b0d3e6",
   "metadata": {},
   "source": [
    "### Part 1\n",
    "\n",
    "The first part will use Spark to analyze the following books, which I have downloaded for you to use from Project Gutenberg. The files are saved to the data folder.\n",
    "\n",
    "| File name | Book Title|\n",
    "|:---------:|:----------|\n",
    "|43.txt | The Strange Case of Dr. Jekyll and Mr. Hyde by Robert Louis Stevenson|\n",
    "|84.txt | Frankenstein; Or, The Modern Prometheus by Mary Wollstonecraft Shelley |\n",
    "|398.txt  | The First Book of Adam and Eve by Rutherford Hayes Platt|\n",
    "|3296.txt | The Confessions of St. Augustine by Bishop of Hippo Saint Augustine|\n",
    "\n",
    "The objective is to explore whether we can detect similarity between books within the same topic using word-based similarity. \n",
    "\n",
    "The task of identifying similar texts in Natural Language Processing is crucial. A naive method for determining whether two documents are similar is to treat them as collections of words (bag of words) and use the number of words they share as a proxy for their similarity. It makes sense that two books with religion as the topic (e.g.  `398.txt` and `3296.txt`) would have more words in common than a book that discusses religion and a book that discusses science fiction (e.g. books `84.txt` and `398.txt`). \n",
    "\n",
    "As mentioned above, we will be using Spark to analyze the data. Although Spark is not needed for such a small example, the platform would be ideal for analyzing very large collections of documents, like those often analyzed by large corporations\n",
    "\n",
    "This part of the assignment will rely exclusively on RDDs."
   ]
  },
  {
   "cell_type": "markdown",
   "id": "87a15530",
   "metadata": {},
   "source": [
    "### Q1. \n",
    "Start by importing Spark and making sure your environment is set up properly for the assignment.\n",
    "\n",
    "Import the spark context necessary to load a document as an RDD; ignore any error messages"
   ]
  },
  {
   "cell_type": "code",
   "execution_count": 2,
   "id": "e80df4d4",
   "metadata": {},
   "outputs": [
    {
     "name": "stderr",
     "output_type": "stream",
     "text": [
      "WARNING: An illegal reflective access operation has occurred\n",
      "WARNING: Illegal reflective access by org.apache.spark.unsafe.Platform (file:/usr/local/spark-3.1.2-bin-hadoop3.2/jars/spark-unsafe_2.12-3.1.2.jar) to constructor java.nio.DirectByteBuffer(long,int)\n",
      "WARNING: Please consider reporting this to the maintainers of org.apache.spark.unsafe.Platform\n",
      "WARNING: Use --illegal-access=warn to enable warnings of further illegal reflective access operations\n",
      "WARNING: All illegal access operations will be denied in a future release\n",
      "21/11/08 05:33:22 WARN NativeCodeLoader: Unable to load native-hadoop library for your platform... using builtin-java classes where applicable\n",
      "Using Spark's default log4j profile: org/apache/spark/log4j-defaults.properties\n",
      "Setting default log level to \"WARN\".\n",
      "To adjust logging level use sc.setLogLevel(newLevel). For SparkR, use setLogLevel(newLevel).\n"
     ]
    }
   ],
   "source": [
    "### Write your code here\n",
    "from pyspark import SparkContext\n",
    "sc = SparkContext()"
   ]
  },
  {
   "cell_type": "markdown",
   "id": "336d5c9d",
   "metadata": {},
   "source": [
    "### Q2 \n",
    "\n",
    "Read in the file `43.txt` as a spark RDD and save it to a variable called `book_43`\n",
    " * make sure `book_43` is of type MapPartitionsRDD, i.e.,\n",
    "   * str(type(book_43)) == \"<class 'pyspark.rdd.RDD'>\" should return True "
   ]
  },
  {
   "cell_type": "code",
   "execution_count": 3,
   "id": "3d4164f5",
   "metadata": {},
   "outputs": [],
   "source": [
    "### Write your code here\n",
    "book_43 = sc.textFile(\"data/43.txt\")\n",
    "assert str(type(book_43)) == \"<class 'pyspark.rdd.RDD'>\""
   ]
  },
  {
   "cell_type": "markdown",
   "id": "0b8c051e",
   "metadata": {},
   "source": [
    "### Q3\n",
    "\n",
    "How many lines does `book_43` contain?\n",
    "* You can only use operations or actions on RDDs to answer the question. \n",
    "  * Code that uses methods such as `some_rdd.X().Y().Z()...` is allowed\n",
    "  * Code that uses functions such as `some_func(...)` is not allowed"
   ]
  },
  {
   "cell_type": "code",
   "execution_count": 4,
   "id": "b3c5a06e",
   "metadata": {},
   "outputs": [
    {
     "name": "stderr",
     "output_type": "stream",
     "text": [
      "\r",
      "[Stage 0:>                                                          (0 + 2) / 2]\r",
      "\r",
      "                                                                                \r"
     ]
    },
    {
     "data": {
      "text/plain": [
       "2935"
      ]
     },
     "execution_count": 4,
     "metadata": {},
     "output_type": "execute_result"
    }
   ],
   "source": [
    "### Write your code here\n",
    "book_43.count()"
   ]
  },
  {
   "cell_type": "markdown",
   "id": "bca2bc6d",
   "metadata": {},
   "source": [
    "### Q4 \n",
    "\n",
    "Prior to analyzing the words contained in this book, we need to first remove the occurrences of non-alphabetical characters and numbers from the text. You can use the following function, which takes a line as input, removes digits and non-word characters, and splits it into a collection of words. \n",
    "\n",
    "```python\n",
    "def clean_split_line(line):\n",
    "    a = re.sub('\\d+', '', line)\n",
    "    b = re.sub('[\\W]+', ' ', a)\n",
    "    return b.upper().split()\n",
    "```\n",
    "\n",
    "Use the fucntion above on the variable (test_line) to see what it returns.\n",
    "```python\n",
    "test_line = \"This is an example of that contains 234 and a dash-containing number\"\n",
    "```"
   ]
  },
  {
   "cell_type": "code",
   "execution_count": 5,
   "id": "55ce2754",
   "metadata": {},
   "outputs": [
    {
     "data": {
      "text/plain": [
       "['THIS',\n",
       " 'IS',\n",
       " 'AN',\n",
       " 'EXAMPLE',\n",
       " 'OF',\n",
       " 'THAT',\n",
       " 'CONTAINS',\n",
       " 'AND',\n",
       " 'A',\n",
       " 'DASH',\n",
       " 'CONTAINING',\n",
       " 'NUMBER']"
      ]
     },
     "execution_count": 5,
     "metadata": {},
     "output_type": "execute_result"
    }
   ],
   "source": [
    "### Write your code here\n",
    "def clean_split_line(line):\n",
    "    a = re.sub('\\d+', '', line)\n",
    "    b = re.sub('[\\W]+', ' ', a)\n",
    "    return b.upper().split()\n",
    "test_line = \"This is an example of that contains 234 and a dash-containing number\"\n",
    "clean_split_line(test_line)"
   ]
  },
  {
   "cell_type": "markdown",
   "id": "b5e951e5",
   "metadata": {},
   "source": [
    "### Q5\n",
    "\n",
    "How many words does `book_43` contain? To answer this question, you may find it useful to apply the function in a spark-fashion. \n",
    "* You can only use operations or actions on RDDs to answer the question. \n",
    "  * Code that uses methods such as `some_rdd.X().Y().Z()...` is allowed\n",
    "  * Code that uses functions such as `some_func(...)` is not allowed\n"
   ]
  },
  {
   "cell_type": "code",
   "execution_count": 6,
   "id": "99c1b93f",
   "metadata": {},
   "outputs": [
    {
     "data": {
      "text/plain": [
       "29116"
      ]
     },
     "execution_count": 6,
     "metadata": {},
     "output_type": "execute_result"
    }
   ],
   "source": [
    "### Write your code here\n",
    "book_43.flatMap(lambda x: clean_split_line(x)).count()"
   ]
  },
  {
   "cell_type": "markdown",
   "id": "30d62952",
   "metadata": {},
   "source": [
    "### Q6\n",
    "\n",
    "How many of the words in book_43 are unique? Given that words can appear in lower, upper or mixed case (ex. The, THE, the), make sure you convert the words into lower case before counting them.\n"
   ]
  },
  {
   "cell_type": "code",
   "execution_count": 7,
   "id": "07785c77",
   "metadata": {},
   "outputs": [
    {
     "data": {
      "text/plain": [
       "4296"
      ]
     },
     "execution_count": 7,
     "metadata": {},
     "output_type": "execute_result"
    }
   ],
   "source": [
    "### Write your code here\n",
    "book_43.flatMap(lambda x: clean_split_line(x)).map(lambda x: x.lower()).distinct().count()"
   ]
  },
  {
   "cell_type": "markdown",
   "id": "91b13b79",
   "metadata": {},
   "source": [
    "### Q7\n",
    "\n",
    "* Generate an `RDD` that contains the frequency of each word in `book_43`. Call the variable `book_43_counts`. Each item in the `RDD` should be a tuple with the word as the first element of the tuple and the count as the second item of the tuple. The collection should look like the following:\n",
    "\n",
    "[('project', 88), (\"the\", 1807), ... ]\n",
    "\n",
    "* Such a collection may contain a large number of words and it would be imprudent to transfer all the words onto the same machine to display it. Instead, to explore the content of such a collection, display only the first element in your list. \n",
    "\n",
    "* Given the random nature of this operation, the first element element displayed may be different. The first entry for me was:\n",
    "```\n",
    "[('project', 88)]\n",
    "```\n",
    "\n",
    "* You can only use operations or actions to answer the question. \n",
    "* Code that uses methods such as `some_rdd.X().Y().Z()...` is allowed\n",
    "* Code that uses functions such as `some_func(...)` is not allowed\n"
   ]
  },
  {
   "cell_type": "code",
   "execution_count": 8,
   "id": "42729b95",
   "metadata": {},
   "outputs": [
    {
     "data": {
      "text/plain": [
       "('project', 88)"
      ]
     },
     "execution_count": 8,
     "metadata": {},
     "output_type": "execute_result"
    }
   ],
   "source": [
    "### Write your code here\n",
    "book_43_counts = book_43.flatMap(lambda x: clean_split_line(x)).map(lambda x: x.lower()).map(lambda x: (x, 1)).reduceByKey(lambda x, y: x + y)\n",
    "book_43_counts.first()"
   ]
  },
  {
   "cell_type": "markdown",
   "id": "1ee4534c",
   "metadata": {},
   "source": [
    "### Q8\n",
    "\n",
    "Sort `book_43_counts` and print the 20 most frequent words in book_43. \n",
    "  * Hint: function `sortByKey` sorts a collection of tuples on the first element element of the list. You can easily change the order of the items in each element and use `sortByKey` to sort on the second item of each element in `book_43_counts`\n",
    "  * You can only use operations or actions to answer the question. \n",
    "  * Code that uses methods such as `some_rdd.X().Y().Z()...` is allowed\n",
    "  * Code that uses functions such as `some_func(...)` is not allowed"
   ]
  },
  {
   "cell_type": "code",
   "execution_count": 9,
   "id": "d51b8ea9",
   "metadata": {},
   "outputs": [
    {
     "data": {
      "text/plain": [
       "[(1807, 'the'),\n",
       " (1068, 'of'),\n",
       " (1043, 'and'),\n",
       " (726, 'to'),\n",
       " (686, 'a'),\n",
       " (646, 'i'),\n",
       " (485, 'in'),\n",
       " (471, 'was'),\n",
       " (392, 'that'),\n",
       " (384, 'he'),\n",
       " (378, 'it'),\n",
       " (312, 'you'),\n",
       " (308, 'my'),\n",
       " (301, 'with'),\n",
       " (285, 'his'),\n",
       " (244, 'had'),\n",
       " (203, 'as'),\n",
       " (202, 'for'),\n",
       " (195, 'this'),\n",
       " (193, 'but')]"
      ]
     },
     "execution_count": 9,
     "metadata": {},
     "output_type": "execute_result"
    }
   ],
   "source": [
    "### Write your code here\n",
    "book_43_counts.map(lambda x: (x[1], x[0])).sortByKey(False).top(20)"
   ]
  },
  {
   "cell_type": "markdown",
   "id": "13420b09",
   "metadata": {},
   "source": [
    "### Q9\n",
    "\n",
    "You must have noted that the most frequent words in `book_43_counts` include stop words such as `of`, `the`, `and`, etc.\n",
    "\n",
    "It would be inefficient to compare documents based on whether or not they contain stop words; those are common to all documents. As such, it's common to remove such stop words. The librarary `sklearn.feature_extraction` provides access to a collection of English stop words, which can be loaded using the following snippet:\n",
    "\n",
    "```\n",
    "from sklearn.feature_extraction import stop_words\n",
    "stop_words.ENGLISH_STOP_WORDS\n",
    "```\n",
    "\n",
    "* Explore ENGLISH_STOP_WORDS (it's a frozen set data structure, i.e., a set that you cannot modify) by printing any 10 words from it. \n",
    " * Hint: convert the frozen set to something you can subscript\n"
   ]
  },
  {
   "cell_type": "code",
   "execution_count": 10,
   "id": "0e0ad996",
   "metadata": {},
   "outputs": [
    {
     "name": "stdout",
     "output_type": "stream",
     "text": [
      "['via', 'were', 'forty', 'hence', 'amount', 'noone', 'becoming', 'between', 'eg', 'then']\n"
     ]
    }
   ],
   "source": [
    "### Write your code here\n",
    "from sklearn.feature_extraction import _stop_words\n",
    "stop_words = list(_stop_words.ENGLISH_STOP_WORDS)\n",
    "print(stop_words[:10])"
   ]
  },
  {
   "cell_type": "markdown",
   "id": "625eb521",
   "metadata": {},
   "source": [
    "### Q10\n",
    "\n",
    "Filter out the words in `book_43_counts` by removing those that appear in the ENGLISH_STOP_WORDS.\n",
    "Save the results to a new variable called `book_43_counts_filtered`\n",
    "  * You can only use operarations or actions on RDDs to answer the question. \n",
    "  * Code that uses methods such as `some_rdd.X().Y().Z()...` is allowed\n",
    "  * Code that uses function such as `some_func(...)` is not allowed\n"
   ]
  },
  {
   "cell_type": "code",
   "execution_count": 11,
   "id": "5602b4ff",
   "metadata": {},
   "outputs": [],
   "source": [
    "### Write your code here\n",
    "book_43_counts_filtered = book_43_counts.filter(lambda x: x[0] not in stop_words)"
   ]
  },
  {
   "cell_type": "markdown",
   "id": "3d0b3a80",
   "metadata": {},
   "source": [
    "### Q11\n",
    "\n",
    "* How many words are left in `book_43_counts_filtered` after removing the stop words"
   ]
  },
  {
   "cell_type": "code",
   "execution_count": 12,
   "id": "a5bdf083",
   "metadata": {},
   "outputs": [
    {
     "data": {
      "text/plain": [
       "4034"
      ]
     },
     "execution_count": 12,
     "metadata": {},
     "output_type": "execute_result"
    }
   ],
   "source": [
    "### Write your code here\n",
    "book_43_counts_filtered.count()"
   ]
  },
  {
   "cell_type": "markdown",
   "id": "23ffd755",
   "metadata": {},
   "source": [
    "### Q12 \n",
    "\n",
    "* Create a function called *process_RDD* that combines the relevant steps you proposed above to make it convenient to apply them to the remaining four books. Your function should accept an input text file path and:\n",
    " * Reads in the file as a textRDD\n",
    " * Cleans and splits the line using `clean_split_line`\n",
    " * Filters out the stop words\n",
    " * Returns a word count RDD where each item is a tuple of words and its count.\n",
    " \n"
   ]
  },
  {
   "cell_type": "code",
   "execution_count": 13,
   "id": "eff5d5e8",
   "metadata": {},
   "outputs": [],
   "source": [
    "### Write your code here\n",
    "def process_RDD(path):\n",
    "    book = sc.textFile(path)\n",
    "    book_counts = (book.flatMap(lambda x: clean_split_line(x))\n",
    "                   .map(lambda x: x.lower())\n",
    "                   .map(lambda x: (x, 1))\n",
    "                   .reduceByKey(lambda x, y: x + y))\n",
    "    stop_words = list(_stop_words.ENGLISH_STOP_WORDS)\n",
    "    book_counts_filtered = book_counts.filter(lambda x: x[0] not in stop_words)\n",
    "    return book_counts_filtered"
   ]
  },
  {
   "cell_type": "markdown",
   "id": "ba59c9c5",
   "metadata": {},
   "source": [
    "### Q13 \n",
    "\n",
    "Apply the function `process_RDD` to `book_84`, `book_398` and `book_3296` and save the results to variables `book_84_counts_filtered`, `book_398_counts_filtered` and `book_3296_counts_filtered` respectively. How many distinct words does each book contain after filtering the stop words.\n"
   ]
  },
  {
   "cell_type": "code",
   "execution_count": 14,
   "id": "08a24f66",
   "metadata": {},
   "outputs": [],
   "source": [
    "### Write your code here\n",
    "book_84_counts_filtered = process_RDD(\"data/84.txt\")\n",
    "book_398_counts_filtered = process_RDD(\"data/398.txt\")\n",
    "book_3296_counts_filtered = process_RDD(\"data/3296.txt\")"
   ]
  },
  {
   "cell_type": "markdown",
   "id": "7fb9680f",
   "metadata": {},
   "source": [
    "### Q14 \n",
    "\n",
    "We discussed how to evaluate similarity between two texts using the number of words they share. We hypothesized that books that are similar should have more words in common than books that are dissimilar. If that holds, `book_398` and `book_3296`, which both pertain to religion, will have more words in common than, say, `book_84` and `book_398`. Test this hypothesis by writing code that compares and prints the number of words shared between `book_398` and `book_3296` and then between `book_84` and `book_398`.\n"
   ]
  },
  {
   "cell_type": "code",
   "execution_count": 15,
   "id": "ac6b73e0",
   "metadata": {},
   "outputs": [
    {
     "name": "stdout",
     "output_type": "stream",
     "text": [
      "book_84 and book_3296: 3608\n",
      "book_398 and book_3296: 1790\n",
      "book_84 and book_398: 1691\n"
     ]
    }
   ],
   "source": [
    "### Write your code here\n",
    "book_84 = book_84_counts_filtered.map(lambda x: x[0])\n",
    "book_398 = book_398_counts_filtered.map(lambda x: x[0])\n",
    "book_3296 = book_3296_counts_filtered.map(lambda x: x[0])\n",
    "print(\"book_84 and book_3296:\" ,book_84.intersection(book_3296).count())\n",
    "print(\"book_398 and book_3296:\" ,book_398.intersection(book_3296).count())\n",
    "print(\"book_84 and book_398:\" ,book_84.intersection(book_398).count())"
   ]
  },
  {
   "cell_type": "markdown",
   "id": "cef9f326",
   "metadata": {},
   "source": [
    "### Q15\n",
    "\n",
    "* Based on the above, do you think counting the number of shared words is a good idea as a distance metric for evaluating topic similarity? Justify your answer?\n",
    "* Hint: What do *book_84* and *book_3296* have in common? "
   ]
  },
  {
   "cell_type": "markdown",
   "id": "6587ae14",
   "metadata": {},
   "source": [
    "#### Write your answer here\n",
    "Base on the result above, I think counting the number of shared words is NOT a good idea since `book_398` and `book_3296` should be more similar but they only have 1790 in common which is way less than common words number between `book_84` and `book_3296` which is 3608."
   ]
  },
  {
   "cell_type": "markdown",
   "id": "a6f8f857",
   "metadata": {},
   "source": [
    "## Part II \n",
    "\n",
    "Another approach to estimating similarity consists of computing the Euclidean distance across a set of words. For example, suppose we have 3 documents A, B and C with the following counts for the words `evolution`, `DNA`, `biology` and `finance`. \n",
    "\n",
    "```python \n",
    "A = [4, 9, 6, 8]\n",
    "B = [3, 7, 7, 10]\n",
    "C = [15, 10, 1, 1]\n",
    "```\n",
    "Although all documents contain exactly the four words, the number of times these words appear in each book may be indicative of thier topic. For example, documents `A` and `B` are more likely to be business related since they contain the word `finance` more frequently (8 and 10 times respectively). Document `C` may be a technical document since it focuses on more technical words (`evolution` and `DNA`) and less on the words `finance`.\n",
    "\n",
    "The Euclidean distance, which can be computed using the `scikit` snippet below, is more indicative of topic-relatedness between the two documents.\n",
    "\n",
    "```python\n",
    "from scipy.spatial.distance import euclidean \n",
    "print(f\"The Euclidean distance between A and B is: {euclidean(A, B)}\")\n",
    "\n",
    "print(f\"The Euclidean distance between A and C is: {euclidean(A, C)}\")\n",
    "\n",
    "print(f\"The Euclidean distance between B and C is: {euclidean(B, C)}\")\n",
    "```\n"
   ]
  },
  {
   "cell_type": "markdown",
   "id": "9abdc35e",
   "metadata": {},
   "source": [
    "### Q16\n",
    "\n",
    "To calculate the Euclidean distance, we must first identify the set of words by which we will compare the documents. Here, we will explore the words that are common to all 4 documents. We will store the data in a matrix called `counts_matrix`.\n",
    "\n",
    "Start by finding the words that are common to all four documents after stop-word filtering and store the counts for each word in a column of `counts_matrix`. \n",
    "\n",
    "To take the previous example, you can generate an emtpy matrix with 3 lines (documents `A`, `B` and `C`) and 4 columns (words `evolution`, `DNA`, `biology` and `finance`) using the following code.\n",
    "\n",
    "```python\n",
    "import numpy as np\n",
    "counts_matrix = np.zeros([3,4])\n",
    "```\n",
    "\n",
    "After generting the counts, you can fill the counts for a document, say `A`, using the following code:\n",
    "\n",
    "```python\n",
    "counts_matrix[0, :] = [4, 9, 6, 8] \n",
    "```\n",
    "* Other than for building `counts_matrix` you should exclusively use operations or actions on the `RDD` to answer this question. \n",
    "  * Code that uses methods such as `some_rdd.X().Y().Z()...` is allowed\n",
    "  * Code that uses functions such as `some_func(...)` is not allowed\n"
   ]
  },
  {
   "cell_type": "code",
   "execution_count": 16,
   "id": "c3cae946",
   "metadata": {},
   "outputs": [],
   "source": [
    "### Write your code here\n",
    "common_list = (book_43_counts_filtered.map(lambda x: x[0])\n",
    "               .intersection(book_84)\n",
    "               .intersection(book_398)\n",
    "               .intersection(book_3296)\n",
    "               .collect())\n",
    "book_84_common = book_84_counts_filtered.filter(lambda x: x[0] in common_list).map(lambda x: x[1]).collect()\n",
    "book_398_common = book_398_counts_filtered.filter(lambda x: x[0] in common_list).map(lambda x: x[1]).collect()\n",
    "book_3296_common = book_3296_counts_filtered.filter(lambda x: x[0] in common_list).map(lambda x: x[1]).collect()"
   ]
  },
  {
   "cell_type": "markdown",
   "id": "124bcdd8",
   "metadata": {},
   "source": [
    "### Q17\n",
    "\n",
    "Compute the Euclidean distance between `book_398` and `book_3296`, which both talk about religion and `book_84` and `book_398`. What do you conclude about using the Euclidean distance for evaluating topic relatedness across documents?\n"
   ]
  },
  {
   "cell_type": "code",
   "execution_count": 17,
   "id": "7b6a81dd",
   "metadata": {},
   "outputs": [
    {
     "name": "stdout",
     "output_type": "stream",
     "text": [
      "The Euclidean distance between book_398 and book_3296 is: 1470.8415958219293\n",
      "The Euclidean distance between book_84 and book_398 is: 867.2508287687017\n"
     ]
    }
   ],
   "source": [
    "### Write your code here\n",
    "from scipy.spatial.distance import euclidean \n",
    "print(f\"The Euclidean distance between book_398 and book_3296 is: {euclidean(book_398_common, book_3296_common)}\")\n",
    "\n",
    "print(f\"The Euclidean distance between book_84 and book_398 is: {euclidean(book_84_common, book_398_common)}\")\n"
   ]
  },
  {
   "cell_type": "markdown",
   "id": "89981b46",
   "metadata": {},
   "source": [
    "#### Write your justification here\n",
    "Using the Euclidean distance for evaluation topic relatedness across documents are very useful because from the result above we can see that `book_398` and `book_3296` has higher Eucliden distance which is about 1470. Base on the fact that `book_398` and `book_3296` are both pertain to religion so they suppose to be similar. In addition, comparing to the Euclidean distance between `book_84` and `book_398`, which is about 867, is lower than the one between `book_398` and `book_3296` and the fact is `book_84` and `book_398` are not as related as the relationship between `book_398` and `book_3296`."
   ]
  },
  {
   "cell_type": "markdown",
   "id": "3f4e54e6",
   "metadata": {},
   "source": [
    "### Q18\n",
    "\n",
    "Bonus question (5 points): Can you think of a few things we could do to improve similarity between documents that pertain to the same topic. Justify your answer without giving code"
   ]
  },
  {
   "cell_type": "markdown",
   "id": "5c8c6de1",
   "metadata": {},
   "source": [
    "#### Write your answer here\n",
    "In order to improve similarity between documents, we can also check Cosine Similarity, Jacard Similarity, Hamming Distance and Minimum Edit Distance. They are just like Euclidean distance but with different calculation. Each of them are sutable in different kind of documents, so that we can compute them all and analyze the result for evaluating topic relatedness across documents.\n",
    "\n",
    "In addition, we can also analyze whole sentence by checking its gramma or constructure of the whole article to improve similarity between documents. Only comparing word counts are not enough."
   ]
  },
  {
   "cell_type": "markdown",
   "id": "aedf1d74",
   "metadata": {},
   "source": [
    "## Part III\n",
    "\n",
    "In this part we will build some basic analytics for a dataset consisting of flight arrival and departure details for all commercial flights within the USA in one month. While this dataset can be managed using Pandas (<1M records), scaling to a yearly or longer timeframe will greatly benefit from using a distributed computing framework such as `Spark`.\n",
    "\n",
    "Here, you should use exclusively `SparkDatFrames. \n",
    "\n",
    "We want to analyze this dataset to better schedule trips.  For example:\n",
    " * Avoid airlines carriers that are most often associated with delays.\n",
    " * Avoid departure days where delays are most frequent.\n",
    " * Avoid airports which are associated with delays or long taxxying time.\n",
    "* etc.\n",
    " \n",
    "\n",
    "The information about the fields contained in the data file can be found [here](https://dataverse.harvard.edu/dataset.xhtml;jsessionid=0414e25969eccd0e88ae4d64fa0b?persistentId=doi%3A10.7910%2FDVN%2FHG7NV7&version=&q=&fileTypeGroupFacet=&fileTag=%221.+Documentation%22&fileSortField=date&fileSortOrder=desc)\n"
   ]
  },
  {
   "cell_type": "markdown",
   "id": "149805af",
   "metadata": {},
   "source": [
    "### Q19\n",
    "\n",
    "Load the file `flight_info.csv` into a spark `DataFrame` called `fight_info`.\n",
    "\n",
    "  * Note that you will need to create a sparkSession prior to loading the data\n",
    "  \n",
    "* How many entries does the file contain?\n",
    "\n"
   ]
  },
  {
   "cell_type": "code",
   "execution_count": 20,
   "id": "3ad5e6ad",
   "metadata": {},
   "outputs": [
    {
     "name": "stdout",
     "output_type": "stream",
     "text": [
      "There are 450017 entries.\n"
     ]
    }
   ],
   "source": [
    "### Write your code here\n",
    "from pyspark.sql import SparkSession\n",
    "from pyspark.sql import functions as F\n",
    "session = SparkSession(sc)\n",
    "flight_info = session.read.csv('./data/flight_info.csv', header=True)\n",
    "print(\"There are\", flight_info.count(), \"entries.\")"
   ]
  },
  {
   "cell_type": "markdown",
   "id": "4fad81f1",
   "metadata": {},
   "source": [
    "### Q20\n",
    "\n",
    "Use `pySpark-SQL` or `pandas-like syntax to compute the airlines represented in this dataset\n",
    "The airline information is stored in a field called UniqueCarrier\n",
    "* UniqueCarrier: Represents the unique carrier code (ex.AA = American Airlines) \n"
   ]
  },
  {
   "cell_type": "code",
   "execution_count": 22,
   "id": "73fd7b0b",
   "metadata": {},
   "outputs": [
    {
     "name": "stdout",
     "output_type": "stream",
     "text": [
      "+-------------+\n",
      "|UniqueCarrier|\n",
      "+-------------+\n",
      "|           UA|\n",
      "|           NK|\n",
      "|           AA|\n",
      "|           EV|\n",
      "|           B6|\n",
      "|           DL|\n",
      "|           OO|\n",
      "|           F9|\n",
      "|           HA|\n",
      "|           AS|\n",
      "|           VX|\n",
      "|           WN|\n",
      "+-------------+\n",
      "\n"
     ]
    }
   ],
   "source": [
    "### Write your code here\n",
    "flight_info.select(\"UniqueCarrier\").distinct().show()"
   ]
  },
  {
   "cell_type": "markdown",
   "id": "1349b2f5",
   "metadata": {},
   "source": [
    "### Q21\n",
    "\n",
    "The data file contains various other fields, two of which are useful for answering the next question.\n",
    "\n",
    "* CRSDepTime: Represents the scheduled departure time\n",
    "* DepTime: Represents the actual departure time\n",
    "\n",
    "Compute the number of flights delayed per each carried code represented in this dataset. Sort the data by decreasing order of delays.\n",
    "  * A delay is observed when `DepTime` > `CRSDepTime`\n"
   ]
  },
  {
   "cell_type": "code",
   "execution_count": 24,
   "id": "c72cff25",
   "metadata": {},
   "outputs": [
    {
     "name": "stdout",
     "output_type": "stream",
     "text": [
      "+-------------+-----+\n",
      "|UniqueCarrier|count|\n",
      "+-------------+-----+\n",
      "|           WN|54557|\n",
      "|           DL|28962|\n",
      "|           AA|26291|\n",
      "|           UA|19594|\n",
      "|           OO|17924|\n",
      "|           EV|12340|\n",
      "|           B6|10406|\n",
      "|           AS| 4966|\n",
      "|           NK| 4435|\n",
      "|           F9| 3181|\n",
      "|           VX| 2871|\n",
      "|           HA| 2265|\n",
      "+-------------+-----+\n",
      "\n"
     ]
    }
   ],
   "source": [
    "### Write your code here\n",
    "(flight_info\n",
    " .filter(flight_info[\"DepTime\"] > flight_info[\"CRSDepTime\"])\n",
    " .groupby(\"UniqueCarrier\")\n",
    " .count()\n",
    " .sort(F.col(\"Count\").desc())\n",
    " .show())"
   ]
  },
  {
   "cell_type": "markdown",
   "id": "1645593b",
   "metadata": {},
   "source": [
    "### Q22\n",
    "\n",
    " Use the file `airlines.csv` to find the the complete name of the airline. Here, you are required to load the file as a pyspark DataFrame; call it `airlines_info`, and repeat the query above while including the `flights.csv `file in your query ( requires doing a `join`) so that you can also display the full name of the carrier (second column). \n",
    "\n",
    "The result will look (approximately) like:\n",
    "\n",
    "```\n",
    "[Row(UniqueCarrier='WN', first(_c1)='Southwest Airlines', count=SOME_count),\n",
    " Row(UniqueCarrier='DL', first(_c1)='Delta Air Lines', count=SOME_count),\n",
    " Row(UniqueCarrier='AA', first(_c1)='American Airlines', count=SOME_count),\n",
    " ...\n",
    " ]\n",
    "```\n",
    "\n",
    "The carrier code in the `airlines.csv` file is provided in the 4th (1-based) column\n",
    "\n",
    "Note that the file `airlines.csv` does not have column header. Hence, you need to print one line of your dataset to see what names Spark gave to the columns. Use the name provided by Spark in your query."
   ]
  },
  {
   "cell_type": "code",
   "execution_count": 25,
   "id": "30cea22b",
   "metadata": {},
   "outputs": [
    {
     "data": {
      "text/plain": [
       "Row(_c0='1', _c1='Private flight', _c2='\\\\N', _c3='-', _c4='N/A', _c5=None, _c6=None, _c7='Y')"
      ]
     },
     "execution_count": 25,
     "metadata": {},
     "output_type": "execute_result"
    }
   ],
   "source": [
    "### Write your code here\n",
    "airlines_info = session.read.csv('./data/airlines.csv')\n",
    "airlines_info.head()"
   ]
  },
  {
   "cell_type": "code",
   "execution_count": 27,
   "id": "e7fde7c4",
   "metadata": {},
   "outputs": [
    {
     "name": "stdout",
     "output_type": "stream",
     "text": [
      "+-------------+--------------------+-----+\n",
      "|UniqueCarrier|          first(_c1)|count|\n",
      "+-------------+--------------------+-----+\n",
      "|           WN|  Southwest Airlines|54557|\n",
      "|           DL|     Delta Air Lines|28962|\n",
      "|           AA|   American Airlines|26291|\n",
      "|           UA|     United Airlines|19594|\n",
      "|           OO|             SkyWest|17924|\n",
      "|           EV|Atlantic Southeas...|12340|\n",
      "|           B6|     JetBlue Airways|10406|\n",
      "|           AS|     Alaska Airlines| 4966|\n",
      "|           NK|     Spirit Airlines| 4435|\n",
      "|           F9|   Frontier Airlines| 3181|\n",
      "|           VX|      Virgin America| 2871|\n",
      "|           HA|   Hawaiian Airlines| 2265|\n",
      "+-------------+--------------------+-----+\n",
      "\n"
     ]
    }
   ],
   "source": [
    "(flight_info\n",
    " .join(airlines_info, flight_info[\"UniqueCarrier\"] == airlines_info[\"_c3\"])\n",
    " .filter(flight_info[\"DepTime\"] > flight_info[\"CRSDepTime\"])\n",
    " .groupby(\"UniqueCarrier\")\n",
    " .agg(F.first(\"_c1\"), F.count(\"UniqueCarrier\").alias(\"count\"))\n",
    " .sort(F.col(\"count\").desc())\n",
    " .show())"
   ]
  },
  {
   "cell_type": "markdown",
   "id": "4e0123a8",
   "metadata": {},
   "source": [
    "### Q23\n",
    "\n",
    "Compute the number of delays per company per day. The day is encoded as an integer in the column `DayOfWeek` in `fight_info`. You can display the day as an integer or map it into a string name of the week.\n",
    "Sort the data by airline code (UniqueCarrier) and by increasing values of DayOfWeek\n",
    "\n",
    "\n",
    "You results should look like the following\n",
    "\n"
   ]
  },
  {
   "cell_type": "code",
   "execution_count": 29,
   "id": "f9971baa",
   "metadata": {},
   "outputs": [
    {
     "name": "stdout",
     "output_type": "stream",
     "text": [
      "+-------------+---------+-----+\n",
      "|UniqueCarrier|DayOfWeek|count|\n",
      "+-------------+---------+-----+\n",
      "|           AA|   Monday| 5117|\n",
      "|           AA|  Tuesday| 3688|\n",
      "|           AA|Wednesday| 2941|\n",
      "|           AA| Thursday| 3575|\n",
      "|           AA|   Friday| 3525|\n",
      "|           AA| Saturday| 2800|\n",
      "|           AA|   Sunday| 4645|\n",
      "|           AS|   Monday|  872|\n",
      "|           AS|  Tuesday|  669|\n",
      "|           AS|Wednesday|  618|\n",
      "|           AS| Thursday|  728|\n",
      "|           AS|   Friday|  630|\n",
      "|           AS| Saturday|  517|\n",
      "|           AS|   Sunday|  932|\n",
      "|           B6|   Monday| 1892|\n",
      "|           B6|  Tuesday| 1787|\n",
      "|           B6|Wednesday| 1253|\n",
      "|           B6| Thursday| 1254|\n",
      "|           B6|   Friday| 1309|\n",
      "|           B6| Saturday| 1027|\n",
      "+-------------+---------+-----+\n",
      "only showing top 20 rows\n",
      "\n"
     ]
    }
   ],
   "source": [
    "### Write your code here\n",
    "(flight_info\n",
    " .filter(flight_info[\"DepTime\"] > flight_info[\"CRSDepTime\"])\n",
    " .groupby(\"UniqueCarrier\", \"DayOfWeek\")\n",
    " .count()\n",
    " .sort(F.col(\"UniqueCarrier\"), F.col(\"DayOfWeek\").asc())\n",
    " .withColumn(\"DayOfWeek\", (F.when(F.col(\"DayOfWeek\")==1, \"Monday\")\n",
    "                           .when(F.col(\"DayOfWeek\")==2, \"Tuesday\")\n",
    "                           .when(F.col(\"DayOfWeek\")==3, \"Wednesday\")\n",
    "                           .when(F.col(\"DayOfWeek\")==4, \"Thursday\")\n",
    "                           .when(F.col(\"DayOfWeek\")==5, \"Friday\")\n",
    "                           .when(F.col(\"DayOfWeek\")==6, \"Saturday\")\n",
    "                           .otherwise(\"Sunday\")))\n",
    " .show())"
   ]
  },
  {
   "cell_type": "markdown",
   "id": "4c955760",
   "metadata": {},
   "source": [
    "### Q24  \n",
    "\n",
    "Counting the number of delayed flights per airline is misleading, as airlines with more flights are more likley to have delays than companies with substantially fiewer flights. \n",
    "\n",
    "Repeat the same query above but, for each carrier, normalize the counts of delays by the total number of flights for that carrier. \n"
   ]
  },
  {
   "cell_type": "code",
   "execution_count": 30,
   "id": "13ae9b5e",
   "metadata": {},
   "outputs": [
    {
     "name": "stdout",
     "output_type": "stream",
     "text": [
      "+-------------+---------+------+\n",
      "|UniqueCarrier|DayOfWeek| count|\n",
      "+-------------+---------+------+\n",
      "|           AA|        1|  0.07|\n",
      "|           AA|        2|0.0504|\n",
      "|           AA|        3|0.0402|\n",
      "|           AA|        4|0.0489|\n",
      "|           AA|        5|0.0482|\n",
      "|           AA|        6|0.0383|\n",
      "|           AA|        7|0.0635|\n",
      "|           AS|        1|0.0593|\n",
      "|           AS|        2|0.0455|\n",
      "|           AS|        3| 0.042|\n",
      "|           AS|        4|0.0495|\n",
      "|           AS|        5|0.0428|\n",
      "|           AS|        6|0.0351|\n",
      "|           AS|        7|0.0634|\n",
      "|           B6|        1|0.0769|\n",
      "|           B6|        2|0.0726|\n",
      "|           B6|        3|0.0509|\n",
      "|           B6|        4| 0.051|\n",
      "|           B6|        5|0.0532|\n",
      "|           B6|        6|0.0417|\n",
      "+-------------+---------+------+\n",
      "only showing top 20 rows\n",
      "\n",
      "CPU times: user 15.5 ms, sys: 3.33 ms, total: 18.8 ms\n",
      "Wall time: 2.2 s\n"
     ]
    }
   ],
   "source": [
    "%%time\n",
    "### Write your code here\n",
    "(flight_info\n",
    " .filter(flight_info[\"DepTime\"] > flight_info[\"CRSDepTime\"])\n",
    " .join(flight_info.groupby(\"UniqueCarrier\").count().select(\"UniqueCarrier\", F.col(\"count\").alias(\"totalCount\")),\n",
    "       on=\"UniqueCarrier\",\n",
    "       how=\"left\")\n",
    " .groupby(\"UniqueCarrier\", \"DayOfWeek\")\n",
    " .agg(F.first(\"totalCount\"), F.count(\"UniqueCarrier\").alias(\"count\"))\n",
    " .withColumn(\"count\", F.round(F.col(\"count\")/F.col(\"first(totalCount)\"), 4))\n",
    " .sort(F.col(\"UniqueCarrier\"), F.col(\"DayOfWeek\").asc())\n",
    " .select(\"UniqueCarrier\", \"DayOfWeek\", \"count\")\n",
    " .show())"
   ]
  },
  {
   "cell_type": "markdown",
   "id": "5b73b3e4",
   "metadata": {},
   "source": [
    "### Q25 \n",
    "\n",
    "Time the query above. How long did it take to run. \n",
    "  * Make sure you run the code a few times and compute the average run time.\n",
    "  * The above should be easy to implement if you use the correct Jupyter Notebook `magic` function\n",
    "  "
   ]
  },
  {
   "cell_type": "code",
   "execution_count": 31,
   "id": "7df43da8",
   "metadata": {},
   "outputs": [
    {
     "name": "stdout",
     "output_type": "stream",
     "text": [
      "The quary above takes 2.27 seconds in average to run.\n"
     ]
    }
   ],
   "source": [
    "### Write your code here\n",
    "runtime_list = [2.35, 2.15, 2.51, 2.16, 2.2]\n",
    "average_time = sum(runtime_list)/len(runtime_list)\n",
    "print(\"The quary above takes\", '{0:.3g}'.format(average_time), \"seconds in average to run.\")"
   ]
  },
  {
   "cell_type": "markdown",
   "id": "604e85e0",
   "metadata": {},
   "source": [
    "### Q26 \n",
    "\n",
    "Use one of the techniques covered in class to accelerate this query. Time your query to see by how much the run time was improved"
   ]
  },
  {
   "cell_type": "code",
   "execution_count": 32,
   "id": "633d542e",
   "metadata": {},
   "outputs": [
    {
     "data": {
      "text/plain": [
       "DataFrame[_c0: string, DayOfWeek: string, UniqueCarrier: string, FlightNum: string, Origin: string, Dest: string, CRSDepTime: string, DepTime: string, TaxiOut: string, WheelsOff: string, WheelsOn: string, TaxiIn: string, CRSArrTime: string, ArrTime: string, Cancelled: string, CancellationCode: string, Distance: string, CarrierDelay: string, WeatherDelay: string, NASDelay: string, SecurityDelay: string, LateAircraftDelay: string]"
      ]
     },
     "execution_count": 32,
     "metadata": {},
     "output_type": "execute_result"
    }
   ],
   "source": [
    "flight_info.cache()"
   ]
  },
  {
   "cell_type": "code",
   "execution_count": 34,
   "id": "e32191fe",
   "metadata": {},
   "outputs": [
    {
     "name": "stdout",
     "output_type": "stream",
     "text": [
      "+-------------+---------+------+\n",
      "|UniqueCarrier|DayOfWeek| count|\n",
      "+-------------+---------+------+\n",
      "|           AA|        1|  0.07|\n",
      "|           AA|        2|0.0504|\n",
      "|           AA|        3|0.0402|\n",
      "|           AA|        4|0.0489|\n",
      "|           AA|        5|0.0482|\n",
      "|           AA|        6|0.0383|\n",
      "|           AA|        7|0.0635|\n",
      "|           AS|        1|0.0593|\n",
      "|           AS|        2|0.0455|\n",
      "|           AS|        3| 0.042|\n",
      "|           AS|        4|0.0495|\n",
      "|           AS|        5|0.0428|\n",
      "|           AS|        6|0.0351|\n",
      "|           AS|        7|0.0634|\n",
      "|           B6|        1|0.0769|\n",
      "|           B6|        2|0.0726|\n",
      "|           B6|        3|0.0509|\n",
      "|           B6|        4| 0.051|\n",
      "|           B6|        5|0.0532|\n",
      "|           B6|        6|0.0417|\n",
      "+-------------+---------+------+\n",
      "only showing top 20 rows\n",
      "\n",
      "CPU times: user 13.1 ms, sys: 6.99 ms, total: 20.1 ms\n",
      "Wall time: 1.2 s\n"
     ]
    }
   ],
   "source": [
    "%%time\n",
    "(flight_info\n",
    " .filter(F.col(\"DepTime\") > F.col(\"CRSDepTime\"))\n",
    " .join(flight_info.groupby(\"UniqueCarrier\").count().select(\"UniqueCarrier\", F.col(\"count\").alias(\"totalCount\")),\n",
    "       on=\"UniqueCarrier\",\n",
    "       how=\"left\")\n",
    " .groupby(\"UniqueCarrier\", \"DayOfWeek\")\n",
    " .agg(F.first(\"totalCount\"), F.count(\"UniqueCarrier\").alias(\"count\"))\n",
    " .withColumn(\"count\", F.round(F.col(\"count\")/F.col(\"first(totalCount)\"), 4))\n",
    " .sort(F.col(\"UniqueCarrier\"), F.col(\"DayOfWeek\").asc())\n",
    " .select(\"UniqueCarrier\", \"DayOfWeek\", \"count\")\n",
    " .show())"
   ]
  },
  {
   "cell_type": "code",
   "execution_count": 35,
   "id": "82c4d918",
   "metadata": {},
   "outputs": [
    {
     "name": "stdout",
     "output_type": "stream",
     "text": [
      "The run time was improved 1.07 seconds.\n"
     ]
    }
   ],
   "source": [
    "current_time = 1.2\n",
    "diff_time = average_time - current_time\n",
    "print(\"The run time was improved\", '{0:.3g}'.format(diff_time),\"seconds.\")"
   ]
  },
  {
   "cell_type": "markdown",
   "id": "8a87a433",
   "metadata": {},
   "source": [
    "### Q27 \n",
    "\n",
    "Is the departure delay (i.e., DepTime - CRSDepTime) predictive of the arrival delay (ArrTime > CRSArrTime)?\n",
    "Use an approach of your choice (e.g. `skelearn` which we covered in class or `Spark`) to model as a linear regression the arrival delay as a function of the departure delay. \n",
    "\n"
   ]
  },
  {
   "cell_type": "code",
   "execution_count": 42,
   "id": "f8dbd52d",
   "metadata": {},
   "outputs": [],
   "source": [
    "### Write your code here\n",
    "import numpy as np\n",
    "import matplotlib.pyplot as plt\n",
    "from sklearn.model_selection import train_test_split\n",
    "from sklearn.linear_model import LinearRegression\n",
    "from sklearn.metrics import mean_squared_error, r2_score\n",
    "\n",
    "# data process\n",
    "delays = flight_info.select((F.col(\"DepTime\") - F.col(\"CRSDepTime\")).alias(\"X\"),\n",
    "                            (F.col(\"ArrTime\") - F.col(\"CRSArrTime\")).alias(\"y\"))\n",
    "delays = delays.filter(delays.X.isNotNull() & delays.y.isNotNull())\n",
    "# get DepDelay and ArrDelay and convert to np\n",
    "depDelay = np.array(delays.select(\"X\").collect())\n",
    "arrDelay = np.array(delays.select(\"y\").collect())\n",
    "# data split\n",
    "X_train, X_test, y_train, y_test = train_test_split(depDelay, arrDelay, test_size=0.2)\n",
    "\n",
    "# fit model\n",
    "model = LinearRegression()\n",
    "model.fit(X_train, y_train)\n",
    "\n",
    "# make prediction\n",
    "y_pred = model.predict(X_test)"
   ]
  },
  {
   "cell_type": "code",
   "execution_count": 43,
   "id": "e1c60d4a",
   "metadata": {},
   "outputs": [
    {
     "data": {
      "image/png": "[encoded data removed]",
      "text/plain": [
       "<Figure size 1152x432 with 1 Axes>"
      ]
     },
     "metadata": {
      "needs_background": "light"
     },
     "output_type": "display_data"
    }
   ],
   "source": [
    "plt.figure(figsize=(16,6))\n",
    "plt.scatter(X_test, y_test, label=\"Actual Delay\")\n",
    "plt.plot(X_test, y_pred, color=\"red\", label=\"Predict Delay\")\n",
    "plt.title(\"Departure Delay vs. Arrival Delay\")\n",
    "plt.legend()\n",
    "plt.xlabel(\"Departure Delay\")\n",
    "plt.ylabel(\"Arrival Delay\")\n",
    "plt.show()"
   ]
  },
  {
   "cell_type": "code",
   "execution_count": 44,
   "id": "a25b5bd8",
   "metadata": {},
   "outputs": [
    {
     "name": "stdout",
     "output_type": "stream",
     "text": [
      "Coefficients: \n",
      " [[0.22398455]]\n",
      "Mean squared error: 81959.24\n",
      "Coefficient of determination: 0.01\n"
     ]
    }
   ],
   "source": [
    "# The coefficients\n",
    "print(\"Coefficients: \\n\", model.coef_)\n",
    "# The mean squared error\n",
    "print(\"Mean squared error: %.2f\" % mean_squared_error(y_test, y_pred))\n",
    "# The coefficient of determination: 1 is perfect prediction\n",
    "print(\"Coefficient of determination: %.2f\" % r2_score(y_test, y_pred))"
   ]
  },
  {
   "cell_type": "markdown",
   "id": "e3dd1854",
   "metadata": {},
   "source": [
    "We Can see that departure delay (i.e., DepTime - CRSDepTime) is predictive of the arrival delay (ArrTime - CRSArrTime) which means they are correlated. Altough the prediction error is quite large, departure delay vs arrival delay graph shows there are some patterns to make prediction."
   ]
  },
  {
   "cell_type": "code",
   "execution_count": null,
   "id": "0aab5b07",
   "metadata": {},
   "outputs": [],
   "source": []
  }
 ],
 "metadata": {
  "kernelspec": {
   "display_name": "Python 3 (ipykernel)",
   "language": "python",
   "name": "python3"
  },
  "language_info": {
   "codemirror_mode": {
    "name": "ipython",
    "version": 3
   },
   "file_extension": ".py",
   "mimetype": "text/x-python",
   "name": "python",
   "nbconvert_exporter": "python",
   "pygments_lexer": "ipython3",
   "version": "3.9.7"
  }
 },
 "nbformat": 4,
 "nbformat_minor": 5
}
